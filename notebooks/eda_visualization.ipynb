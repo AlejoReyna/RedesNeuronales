{
  "cells": [
    {
      "cell_type": "markdown",
      "metadata": {},
      "source": [
        "\n"
      ]
    },
    {
      "cell_type": "code",
      "execution_count": null,
      "metadata": {},
      "outputs": [],
      "source": [
        "\n"
      ]
    },
    {
      "cell_type": "markdown",
      "metadata": {},
      "source": [
        "\n"
      ]
    },
    {
      "cell_type": "code",
      "execution_count": null,
      "metadata": {},
      "outputs": [],
      "source": [
        "\n"
      ]
    },
    {
      "cell_type": "code",
      "execution_count": null,
      "metadata": {},
      "outputs": [],
      "source": [
        "\n"
      ]
    },
    {
      "cell_type": "markdown",
      "metadata": {},
      "source": [
        "\n"
      ]
    },
    {
      "cell_type": "code",
      "execution_count": null,
      "metadata": {},
      "outputs": [],
      "source": [
        "\n"
      ]
    },
    {
      "cell_type": "code",
      "execution_count": null,
      "metadata": {},
      "outputs": [],
      "source": [
        "\n"
      ]
    },
    {
      "cell_type": "markdown",
      "metadata": {},
      "source": [
        "\n"
      ]
    },
    {
      "cell_type": "code",
      "execution_count": null,
      "metadata": {},
      "outputs": [],
      "source": [
        "\n"
      ]
    },
    {
      "cell_type": "code",
      "execution_count": null,
      "metadata": {},
      "outputs": [],
      "source": [
        "\n"
      ]
    },
    {
      "cell_type": "markdown",
      "metadata": {},
      "source": []
    },
    {
      "cell_type": "code",
      "execution_count": null,
      "metadata": {},
      "outputs": [],
      "source": [
        "# Target variable distribution\n",
        "fig, axes = plt.subplots(1, 2, figsize=(14, 5))\n",
        "\n",
        "# Histogram\n",
        "axes[0].hist(df[target_col], bins=50, edgecolor='black', alpha=0.7)\n",
        "axes[0].set_xlabel(target_col, fontsize=12)\n",
        "axes[0].set_ylabel('Frequency', fontsize=12)\n",
        "axes[0].set_title(f'Distribution of {target_col}', fontsize=14, fontweight='bold')\n",
        "axes[0].grid(True, alpha=0.3)\n",
        "\n",
        "# Boxplot\n",
        "axes[1].boxplot(df[target_col])\n",
        "axes[1].set_ylabel(target_col, fontsize=12)\n",
        "axes[1].set_title(f'Boxplot of {target_col}', fontsize=14, fontweight='bold')\n",
        "axes[1].grid(True, alpha=0.3)\n",
        "\n",
        "plt.tight_layout()\n",
        "plt.show()\n"
      ]
    },
    {
      "cell_type": "code",
      "execution_count": null,
      "metadata": {},
      "outputs": [],
      "source": [
        "# Distribution of all numeric features\n",
        "numeric_cols = df.select_dtypes(include=[np.number]).columns.tolist()\n",
        "\n",
        "n_cols = 4\n",
        "n_rows = min(5, (len(numeric_cols) + n_cols - 1) // n_cols)\n",
        "\n",
        "fig, axes = plt.subplots(n_rows, n_cols, figsize=(16, n_rows*3))\n",
        "axes = axes.flatten() if n_rows > 1 else [axes]\n",
        "\n",
        "for idx, col in enumerate(numeric_cols[:20]):  # Show first 20 features\n",
        "    if idx < len(axes):\n",
        "        axes[idx].hist(df[col].dropna(), bins=30, edgecolor='black', alpha=0.7)\n",
        "        axes[idx].set_title(col, fontsize=10, fontweight='bold')\n",
        "        axes[idx].set_xlabel('Value')\n",
        "        axes[idx].set_ylabel('Frequency')\n",
        "        axes[idx].grid(True, alpha=0.3)\n",
        "\n",
        "# Hide unused subplots\n",
        "for idx in range(min(20, len(numeric_cols)), len(axes)):\n",
        "    axes[idx].set_visible(False)\n",
        "\n",
        "plt.suptitle('Distribution of Numeric Features', fontsize=16, fontweight='bold', y=1.00)\n",
        "plt.tight_layout()\n",
        "plt.show()\n"
      ]
    },
    {
      "cell_type": "markdown",
      "metadata": {},
      "source": [
        "## 5. Correlation Analysis\n"
      ]
    },
    {
      "cell_type": "code",
      "execution_count": null,
      "metadata": {},
      "outputs": [],
      "source": [
        "# Correlation matrix\n",
        "correlation_matrix = df.corr()\n",
        "\n",
        "# Plot correlation heatmap\n",
        "plt.figure(figsize=(14, 12))\n",
        "sns.heatmap(correlation_matrix, annot=False, cmap='coolwarm', center=0,\n",
        "            square=True, linewidths=0.5, cbar_kws={\"shrink\": 0.8})\n",
        "plt.title('Correlation Heatmap of All Features', fontsize=16, fontweight='bold', pad=20)\n",
        "plt.tight_layout()\n",
        "plt.show()\n"
      ]
    },
    {
      "cell_type": "code",
      "execution_count": null,
      "metadata": {},
      "outputs": [],
      "source": [
        "# Correlation with target variable\n",
        "target_correlations = correlation_matrix[target_col].drop(target_col).sort_values(ascending=False)\n",
        "\n",
        "print(f\"Top 20 Features Most Correlated with {target_col}:\")\n",
        "print(\"=\" * 60)\n",
        "print(target_correlations.head(20))\n",
        "\n",
        "print(f\"\\nBottom 20 Features (Negative Correlation with {target_col}):\")\n",
        "print(\"=\" * 60)\n",
        "print(target_correlations.tail(20))\n"
      ]
    },
    {
      "cell_type": "code",
      "execution_count": null,
      "metadata": {},
      "outputs": [],
      "source": [
        "# Visualize correlations with target\n",
        "plt.figure(figsize=(10, 12))\n",
        "target_correlations.sort_values().tail(30).plot(kind='barh')\n",
        "plt.xlabel('Correlation Coefficient', fontsize=12)\n",
        "plt.ylabel('Features', fontsize=12)\n",
        "plt.title(f'Top 30 Feature Correlations with {target_col}', fontsize=14, fontweight='bold')\n",
        "plt.axvline(x=0, color='black', linestyle='--', linewidth=0.8)\n",
        "plt.grid(True, alpha=0.3)\n",
        "plt.tight_layout()\n",
        "plt.show()\n"
      ]
    },
    {
      "cell_type": "code",
      "execution_count": null,
      "metadata": {},
      "outputs": [],
      "source": [
        "# Select top correlated features\n",
        "top_n = 15\n",
        "top_features = target_correlations.abs().sort_values(ascending=False).head(top_n)\n",
        "\n",
        "print(f\"\\nTop {top_n} Features by Absolute Correlation:\")\n",
        "print(\"=\" * 60)\n",
        "for feature, corr in top_features.items():\n",
        "    print(f\"{feature:.<50} {target_correlations[feature]:>8.4f}\")\n"
      ]
    },
    {
      "cell_type": "markdown",
      "metadata": {},
      "source": [
        "## 6. Outlier Detection\n"
      ]
    },
    {
      "cell_type": "code",
      "execution_count": null,
      "metadata": {},
      "outputs": [],
      "source": [
        "# Detect outliers using IQR method\n",
        "def detect_outliers_iqr(data, column):\n",
        "    Q1 = data[column].quantile(0.25)\n",
        "    Q3 = data[column].quantile(0.75)\n",
        "    IQR = Q3 - Q1\n",
        "    lower_bound = Q1 - 1.5 * IQR\n",
        "    upper_bound = Q3 + 1.5 * IQR\n",
        "    outliers = data[(data[column] < lower_bound) | (data[column] > upper_bound)]\n",
        "    return len(outliers), (len(outliers) / len(data)) * 100\n",
        "\n",
        "print(\"Outlier Detection (IQR Method):\")\n",
        "print(\"=\" * 60)\n",
        "\n",
        "outlier_summary = []\n",
        "for col in numeric_cols[:20]:  # Check first 20 numeric columns\n",
        "    count, percentage = detect_outliers_iqr(df, col)\n",
        "    outlier_summary.append({\n",
        "        'Feature': col,\n",
        "        'Outlier Count': count,\n",
        "        'Percentage': percentage\n",
        "    })\n",
        "\n",
        "outlier_df = pd.DataFrame(outlier_summary).sort_values('Outlier Count', ascending=False)\n",
        "print(outlier_df.head(15))\n"
      ]
    },
    {
      "cell_type": "markdown",
      "metadata": {},
      "source": [
        "## 7. Scatter Plots - Top Features vs Target\n"
      ]
    },
    {
      "cell_type": "code",
      "execution_count": null,
      "metadata": {},
      "outputs": [],
      "source": [
        "# Scatter plots for top 6 correlated features\n",
        "top_6_features = target_correlations.abs().sort_values(ascending=False).head(6).index\n",
        "\n",
        "fig, axes = plt.subplots(2, 3, figsize=(16, 10))\n",
        "axes = axes.flatten()\n",
        "\n",
        "for idx, feature in enumerate(top_6_features):\n",
        "    axes[idx].scatter(df[feature], df[target_col], alpha=0.5, s=10)\n",
        "    axes[idx].set_xlabel(feature, fontsize=10)\n",
        "    axes[idx].set_ylabel(target_col, fontsize=10)\n",
        "    axes[idx].set_title(f'{feature} vs {target_col}\\n(r = {target_correlations[feature]:.3f})', \n",
        "                       fontsize=11, fontweight='bold')\n",
        "    axes[idx].grid(True, alpha=0.3)\n",
        "\n",
        "plt.suptitle('Top 6 Features vs Target Variable', fontsize=16, fontweight='bold', y=1.00)\n",
        "plt.tight_layout()\n",
        "plt.show()\n"
      ]
    },
    {
      "cell_type": "markdown",
      "metadata": {},
      "source": [
        "## 8. Feature Selection Recommendations\n"
      ]
    },
    {
      "cell_type": "code",
      "execution_count": null,
      "metadata": {},
      "outputs": [],
      "source": [
        "# Recommend features based on correlation threshold\n",
        "correlation_threshold = 0.1\n",
        "\n",
        "recommended_features = target_correlations[target_correlations.abs() > correlation_threshold]\n",
        "\n",
        "print(f\"\\nFeature Selection Recommendations:\")\n",
        "print(\"=\" * 60)\n",
        "print(f\"Total features: {len(df.columns) - 1}\")\n",
        "print(f\"Recommended features (|correlation| > {correlation_threshold}): {len(recommended_features)}\")\n",
        "print(f\"\\nRecommended features list:\")\n",
        "for feature in recommended_features.index[:30]:  # Show top 30\n",
        "    print(f\"  - {feature} (r = {recommended_features[feature]:.4f})\")\n"
      ]
    },
    {
      "cell_type": "markdown",
      "metadata": {},
      "source": [
        "## 9. Data Split Analysis (70% Train / 30% Test)\n"
      ]
    },
    {
      "cell_type": "code",
      "execution_count": null,
      "metadata": {},
      "outputs": [],
      "source": [
        "# Analyze the train-test split\n",
        "split_ratio = 0.7\n",
        "split_index = int(len(df) * split_ratio)\n",
        "\n",
        "train_data = df.iloc[:split_index]\n",
        "test_data = df.iloc[split_index:]\n",
        "\n",
        "print(\"Train-Test Split Analysis:\")\n",
        "print(\"=\" * 60)\n",
        "print(f\"Total samples: {len(df)}\")\n",
        "print(f\"Training samples: {len(train_data)} ({len(train_data)/len(df)*100:.1f}%)\")\n",
        "print(f\"Test samples: {len(test_data)} ({len(test_data)/len(df)*100:.1f}%)\")\n",
        "print(f\"\\nTarget variable statistics:\")\n",
        "print(f\"Train mean: {train_data[target_col].mean():.4f}\")\n",
        "print(f\"Test mean: {test_data[target_col].mean():.4f}\")\n",
        "print(f\"Train std: {train_data[target_col].std():.4f}\")\n",
        "print(f\"Test std: {test_data[target_col].std():.4f}\")\n"
      ]
    },
    {
      "cell_type": "code",
      "execution_count": null,
      "metadata": {},
      "outputs": [],
      "source": [
        "# Visualize train-test distribution\n",
        "fig, axes = plt.subplots(1, 2, figsize=(14, 5))\n",
        "\n",
        "axes[0].hist(train_data[target_col], bins=30, alpha=0.7, label='Train', edgecolor='black')\n",
        "axes[0].hist(test_data[target_col], bins=30, alpha=0.7, label='Test', edgecolor='black')\n",
        "axes[0].set_xlabel(target_col, fontsize=12)\n",
        "axes[0].set_ylabel('Frequency', fontsize=12)\n",
        "axes[0].set_title('Train vs Test Distribution', fontsize=14, fontweight='bold')\n",
        "axes[0].legend()\n",
        "axes[0].grid(True, alpha=0.3)\n",
        "\n",
        "axes[1].plot(range(len(df)), df[target_col], linewidth=0.5, alpha=0.7)\n",
        "axes[1].axvline(x=split_index, color='red', linestyle='--', linewidth=2, label='Train/Test Split')\n",
        "axes[1].set_xlabel('Sample Index', fontsize=12)\n",
        "axes[1].set_ylabel(target_col, fontsize=12)\n",
        "axes[1].set_title('Temporal View of Data Split', fontsize=14, fontweight='bold')\n",
        "axes[1].legend()\n",
        "axes[1].grid(True, alpha=0.3)\n",
        "\n",
        "plt.tight_layout()\n",
        "plt.show()\n"
      ]
    },
    {
      "cell_type": "markdown",
      "metadata": {},
      "source": [
        "## 10. Summary and Conclusions\n"
      ]
    },
    {
      "cell_type": "code",
      "execution_count": null,
      "metadata": {},
      "outputs": [],
      "source": [
        "print(\"\\n\" + \"=\" * 60)\n",
        "print(\" \" * 15 + \"EDA SUMMARY\")\n",
        "print(\"=\" * 60)\n",
        "print(f\"\\n1. Dataset Overview:\")\n",
        "print(f\"   - Total samples: {len(df)}\")\n",
        "print(f\"   - Total features: {len(df.columns) - 1}\")\n",
        "print(f\"   - Target variable: {target_col}\")\n",
        "print(f\"\\n2. Data Quality:\")\n",
        "print(f\"   - Missing values: {df.isnull().sum().sum()}\")\n",
        "print(f\"   - Duplicate rows: {duplicates}\")\n",
        "print(f\"\\n3. Target Variable:\")\n",
        "print(f\"   - Mean: {df[target_col].mean():.4f}\")\n",
        "print(f\"   - Std: {df[target_col].std():.4f}\")\n",
        "print(f\"   - Range: [{df[target_col].min():.4f}, {df[target_col].max():.4f}]\")\n",
        "print(f\"\\n4. Feature Selection:\")\n",
        "print(f\"   - Recommended features: {len(recommended_features)}\")\n",
        "print(f\"   - Correlation threshold: {correlation_threshold}\")\n",
        "print(f\"\\n5. Train-Test Split:\")\n",
        "print(f\"   - Training: {len(train_data)} samples ({split_ratio*100:.0f}%)\")\n",
        "print(f\"   - Testing: {len(test_data)} samples ({(1-split_ratio)*100:.0f}%)\")\n",
        "print(\"\\n\" + \"=\" * 60)\n"
      ]
    }
  ],
  "metadata": {
    "language_info": {
      "name": "python"
    }
  },
  "nbformat": 4,
  "nbformat_minor": 2
}
